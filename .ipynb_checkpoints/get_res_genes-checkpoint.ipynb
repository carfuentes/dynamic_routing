{
 "cells": [
  {
   "cell_type": "code",
   "execution_count": 2,
   "metadata": {
    "collapsed": true
   },
   "outputs": [],
   "source": [
    "import networkx as nx\n",
    "import numpy as np\n",
    "import os\n",
    "import random as rand\n",
    "from collections import defaultdict\n",
    "import matplotlib.pyplot as plt"
   ]
  },
  {
   "cell_type": "code",
   "execution_count": 3,
   "metadata": {
    "collapsed": true
   },
   "outputs": [],
   "source": [
    "def get_r_dictionaries(file,mapping=True):\n",
    "    with open(file, \"r\") as in_file:\n",
    "        dict_map={}\n",
    "        for line in in_file:\n",
    "            line.strip()\n",
    "            if mapping:\n",
    "                dict_map[line.split()[1]]=line.split()[0]\n",
    "            else:\n",
    "                dict_map[line.split()[0]]=set(line.split()[1:])\n",
    "    return dict_map"
   ]
  },
  {
   "cell_type": "code",
   "execution_count": 4,
   "metadata": {
    "collapsed": true
   },
   "outputs": [],
   "source": [
    "def get_cyclic_net(filename):\n",
    "    G=nx.read_edgelist(filename, comments='#', delimiter=\"\\t\", nodetype =str,  data=(('mode',str),), create_using=nx.DiGraph())\n",
    "    G.remove_nodes_from([\"Source\", \"Target\"])\n",
    "    selfloops=G.selfloop_edges()\n",
    "    G.remove_edges_from(G.selfloop_edges())\n",
    "\n",
    "    while 0 in [d[1] for d in G.in_degree()] or 0 in [d[1] for d in G.out_degree()]:\n",
    "        nodes_to_remove=[node for node in G if G.in_degree(node) == 0 or G.out_degree(node) == 0]\n",
    "        G.remove_nodes_from(nodes_to_remove)\n",
    "        \n",
    "        \n",
    "    selfloops_in_reservoir=[edge for edge in selfloops if edge[0] in G.nodes()]\n",
    "    G.add_edges_from(selfloops_in_reservoir)\n",
    "\n",
    "    return G"
   ]
  },
  {
   "cell_type": "code",
   "execution_count": 5,
   "metadata": {
    "collapsed": true
   },
   "outputs": [],
   "source": [
    "def build_adj_weighted_matrix(filename,mapping):\n",
    "        #NETWORK v2.0\n",
    "    net=get_cyclic_net(filename)\n",
    "    nx.relabel_nodes(net,mapping,copy=False)\n",
    "    dict_pos=dict((node,pos) for (pos,node) in enumerate(net.nodes()))\n",
    "    for edge in net.edges(data=\"mode\", default=0):\n",
    "        source,target,mode=edge\n",
    "        if mode== \"+\":\n",
    "            net[source][target][\"weight\"]= abs(rand.gauss(0,1))\n",
    "        elif mode== \"-\":\n",
    "            net[source][target][\"weight\"]= rand.gauss(0,1)*-1\n",
    "        elif mode== 0:\n",
    "            net[source][target][\"weight\"]= rand.gauss(0,1)\n",
    "        \n",
    "    return nx.to_numpy_matrix(net),dict_pos"
   ]
  },
  {
   "cell_type": "code",
   "execution_count": 6,
   "metadata": {
    "collapsed": true
   },
   "outputs": [],
   "source": [
    "def write_nodes_file(out_file,filename,net):\n",
    "    with open(\"%s_%s\"%(out_file,filename),\"w\") as out:\n",
    "        for gene in net.nodes():\n",
    "            if \"hsa\" in gene:\n",
    "                gene=gene[4:].lower()\n",
    "            out.write(gene +\"\\n\")"
   ]
  },
  {
   "cell_type": "code",
   "execution_count": 7,
   "metadata": {
    "collapsed": true
   },
   "outputs": [],
   "source": [
    "file=\"Dataset1/network_edge_list_ENCODE.csv\"\n",
    "net=get_cyclic_net(\"Dataset1/network_edge_list_ENCODE.csv\")\n",
    "G=nx.read_edgelist(file, comments='#', delimiter=\"\\t\", nodetype =str,  data=(('mode',str),), create_using=nx.DiGraph())"
   ]
  },
  {
   "cell_type": "code",
   "execution_count": 9,
   "metadata": {},
   "outputs": [
    {
     "data": {
      "image/png": "[encoded data removed]",
      "text/plain": [
       "<matplotlib.figure.Figure at 0x7fea6a7f8e80>"
      ]
     },
     "metadata": {},
     "output_type": "display_data"
    }
   ],
   "source": [
    "G=get_cyclic_net(\"Dataset1/network_edge_list_ENCODE.csv\")\n",
    "pos = nx.layout.spring_layout(G)\n",
    "\n",
    "node_sizes = [3 + 10 * i for i in range(len(G))]\n",
    "M = G.number_of_edges()\n",
    "edge_colors = range(2, M + 2)\n",
    "edge_alphas = [(5 + i) / (M + 4) for i in range(M)]\n",
    "\n",
    "nodes = nx.draw_networkx_nodes(G, pos, node_size=node_sizes, node_color='blue')\n",
    "edges = nx.draw_networkx_edges(G, pos, node_size=node_sizes, arrowstyle='->',arrowsize=10, edge_color=edge_colors,\n",
    "                               edge_cmap=plt.cm.Blues, width=2)\n",
    "# set alpha value for each edge\n",
    "\n",
    "ax = plt.gca()\n",
    "ax.set_axis_off()\n",
    "plt.show()"
   ]
  },
  {
   "cell_type": "code",
   "execution_count": null,
   "metadata": {
    "scrolled": true
   },
   "outputs": [],
   "source": [
    "readout_direct_targets=defaultdict(set)\n",
    "\n",
    "for source, target in G.edges():\n",
    "    if source in net.nodes() and target not in net.nodes():\n",
    "        readout_direct_targets[source].add(target)\n",
    "\n",
    "readout_direct_targets[\"MAX\"]\n",
    "    #print(target)"
   ]
  },
  {
   "cell_type": "code",
   "execution_count": null,
   "metadata": {
    "collapsed": true
   },
   "outputs": [],
   "source": []
  },
  {
   "cell_type": "code",
   "execution_count": null,
   "metadata": {
    "collapsed": true
   },
   "outputs": [],
   "source": []
  },
  {
   "cell_type": "code",
   "execution_count": null,
   "metadata": {},
   "outputs": [],
   "source": [
    "len(set(net[\"SRF\"]))"
   ]
  },
  {
   "cell_type": "code",
   "execution_count": null,
   "metadata": {},
   "outputs": [],
   "source": [
    "len(net.out_edges(\"SRF\"))"
   ]
  },
  {
   "cell_type": "code",
   "execution_count": null,
   "metadata": {},
   "outputs": [],
   "source": [
    "len(set.union(*readout_direct_targets.values()))"
   ]
  },
  {
   "cell_type": "code",
   "execution_count": null,
   "metadata": {
    "collapsed": true
   },
   "outputs": [],
   "source": [
    "filename=file[file.index(\"list\")+5:file.index(\".csv\")]"
   ]
  },
  {
   "cell_type": "code",
   "execution_count": null,
   "metadata": {
    "collapsed": true
   },
   "outputs": [],
   "source": [
    "write_nodes_file(\"all_gene\",filename,G)"
   ]
  },
  {
   "cell_type": "code",
   "execution_count": null,
   "metadata": {},
   "outputs": [],
   "source": [
    "len(net.nodes())"
   ]
  },
  {
   "cell_type": "code",
   "execution_count": null,
   "metadata": {
    "scrolled": true
   },
   "outputs": [],
   "source": [
    "## Get R dictionaries\n",
    "## GO term -> set ids\n",
    "GO_id_map=get_r_dictionaries(\"test.txt\",mapping=False)\n",
    "#print(GO_id_map)\n",
    "\n",
    "## id to ENTREZ id\n",
    "edgeid_ezid_map=get_r_dictionaries(\"mapping_id_to_entrez.txt\")\n",
    "print(edgeid_ezid_map)"
   ]
  },
  {
   "cell_type": "code",
   "execution_count": null,
   "metadata": {},
   "outputs": [],
   "source": [
    "## Primero: Hay que cambiarle el id del res al id de ENTREZ\n",
    "## hay que hacer un mapping dictionary con la info que tenemos de los nodos de GO.term\n",
    "##Como no todos están anotados es mejor crear un diccionario \n",
    "mapping_relabel = edgeid_ezid_map\n",
    "for node in net.nodes():\n",
    "    if node not in edgeid_ezid_map.values():\n",
    "        mapping_relabel[node]=node\n",
    "mapping_relabel"
   ]
  },
  {
   "cell_type": "code",
   "execution_count": null,
   "metadata": {},
   "outputs": [],
   "source": [
    "for key,values in GO_id_map.items():\n",
    "    GO_id_map[key]=set([mapping_relabel[value] for value in values])\n",
    "GO_id_map"
   ]
  },
  {
   "cell_type": "code",
   "execution_count": null,
   "metadata": {},
   "outputs": [],
   "source": [
    "set.union(*GO_id_map.values())"
   ]
  },
  {
   "cell_type": "code",
   "execution_count": null,
   "metadata": {
    "collapsed": true
   },
   "outputs": [],
   "source": [
    "readout_common=set(gene for gene_res in set.union(*GO_id_map.values()) for gene in set(G[gene_res]) if gene in set.union(*readout_direct_targets.values()) )"
   ]
  },
  {
   "cell_type": "code",
   "execution_count": null,
   "metadata": {
    "scrolled": true
   },
   "outputs": [],
   "source": [
    "readout_common"
   ]
  },
  {
   "cell_type": "code",
   "execution_count": null,
   "metadata": {
    "collapsed": true
   },
   "outputs": [],
   "source": [
    "def get_len(item):\n",
    "    return len(net.in_edges(item))"
   ]
  },
  {
   "cell_type": "code",
   "execution_count": null,
   "metadata": {
    "collapsed": true
   },
   "outputs": [],
   "source": [
    "lista=[(gene,len(G.in_edges(gene))) for gene in readout_common]"
   ]
  },
  {
   "cell_type": "code",
   "execution_count": null,
   "metadata": {
    "scrolled": true
   },
   "outputs": [],
   "source": [
    "len_innodes_gene=defaultdict(set)\n",
    "for el in lista:\n",
    "    len_innodes_gene[el[1]].add(el[0])\n",
    "len_innodes_gene[5]"
   ]
  },
  {
   "cell_type": "code",
   "execution_count": null,
   "metadata": {},
   "outputs": [],
   "source": [
    "set_common=[]\n",
    "for GO_term in GO_id_map.keys():\n",
    "    print()\n",
    "    print(GO_term)\n",
    "    for gene_view in GO_id_map[GO_term]:\n",
    "        print(gene_view,\"\",set(G[gene_view]) & len_innodes_gene[5])\n",
    "        set_common.append(set(G[gene_view]) & len_innodes_gene[5])"
   ]
  },
  {
   "cell_type": "code",
   "execution_count": null,
   "metadata": {},
   "outputs": [],
   "source": [
    "i=range(0,len(set_common))\n",
    "for index,el in enumerate(set_common):\n",
    "    print(index)\n",
    "    for number in i:\n",
    "        if number != index:\n",
    "            print(el & set_common[number])"
   ]
  },
  {
   "cell_type": "code",
   "execution_count": null,
   "metadata": {
    "scrolled": true
   },
   "outputs": [],
   "source": [
    "for gene in len_innodes_gene[5]:\n",
    "    \n",
    "    genes_res_no_go=set(edge[0] for edge in G.in_edges(gene) if edge[0] not in set.union(*GO_id_map.values()))\n",
    "    \n",
    "    if genes_res_no_go.intersection(set(net.nodes())) != genes_res_no_go:\n",
    "        continue\n",
    "    print(gene)\n",
    "    for key in GO_id_map.keys():\n",
    "        print(key)\n",
    "        print(set(gene_res for edge in G.in_edges(gene) for gene_res in GO_id_map[key] if gene_res in edge[0] ))\n",
    "   \n",
    "    print(genes_res_no_go)\n",
    "   \n",
    "    print()\n",
    "    \n",
    "   "
   ]
  },
  {
   "cell_type": "code",
   "execution_count": null,
   "metadata": {
    "collapsed": true
   },
   "outputs": [],
   "source": [
    "GO_007={readout_gene : { edge[0] for edge in G.in_edges(readout_gene) if edge[0] in net.nodes()}for readout_gene in [\"STYXL1\",\"BRD9\",\"ABCA3\"]}\n",
    "np.save('GO_007.npy',GO_007) "
   ]
  },
  {
   "cell_type": "code",
   "execution_count": null,
   "metadata": {
    "collapsed": true
   },
   "outputs": [],
   "source": [
    "GO_007_005= {readout_gene :{ edge[0] for edge in G.in_edges(readout_gene) if edge[0] in net.nodes()}for readout_gene in [\"ALDH1A1\",\"ACAD9\"]}\n",
    "np.save('GO_007and005.npy',GO_007_005) "
   ]
  },
  {
   "cell_type": "code",
   "execution_count": null,
   "metadata": {
    "collapsed": true
   },
   "outputs": [],
   "source": [
    "GO_005={readout_gene : { edge[0] for edge in G.in_edges(readout_gene)} for readout_gene in [\"ZNF775\",\"TMEM14C\",\"C20orf111\"]}\n",
    "np.save('GO_005.npy',GO_005) "
   ]
  },
  {
   "cell_type": "code",
   "execution_count": null,
   "metadata": {
    "collapsed": true
   },
   "outputs": [],
   "source": [
    "## Win test\n",
    "res_size=207\n",
    "in_size=1\n",
    "i_scaling=1"
   ]
  },
  {
   "cell_type": "code",
   "execution_count": null,
   "metadata": {
    "collapsed": true
   },
   "outputs": [],
   "source": [
    "matrix,dict_pos=build_adj_weighted_matrix(file,mapping_relabel)"
   ]
  },
  {
   "cell_type": "code",
   "execution_count": null,
   "metadata": {
    "collapsed": true
   },
   "outputs": [],
   "source": [
    "Win=np.zeros((res_size,1+in_size))*i_scaling\n",
    "Win[1,]"
   ]
  },
  {
   "cell_type": "code",
   "execution_count": null,
   "metadata": {
    "collapsed": true
   },
   "outputs": [],
   "source": [
    "#print(GO_id_map[\"GO:0030220\"])\n",
    "for gene in GO_id_map[\"GO:0030220\"]:\n",
    "    print(dict_pos[gene])\n",
    "    Win[dict_pos[gene],]=2\n",
    "print(np.where(Win==2))"
   ]
  },
  {
   "cell_type": "code",
   "execution_count": null,
   "metadata": {
    "collapsed": true
   },
   "outputs": [],
   "source": [
    "def input_matrix_just_genes_GOterm(Win,GOterm,GO_id_map):\n",
    "    for gene in GO_id_map[GOterm]:\n",
    "        Win[dict_pos[gene],]=np.random.uniform(0,1)\n",
    "    return Win"
   ]
  },
  {
   "cell_type": "code",
   "execution_count": null,
   "metadata": {
    "collapsed": true
   },
   "outputs": [],
   "source": [
    "Win=np.zeros((res_size,1+in_size))*i_scaling\n",
    "input_matrix_just_genes_GOterm(Win,\"GO:0030220\",GO_id_map)"
   ]
  }
 ],
 "metadata": {
  "kernelspec": {
   "display_name": "Python 3",
   "language": "python",
   "name": "python3"
  },
  "language_info": {
   "codemirror_mode": {
    "name": "ipython",
    "version": 3
   },
   "file_extension": ".py",
   "mimetype": "text/x-python",
   "name": "python",
   "nbconvert_exporter": "python",
   "pygments_lexer": "ipython3",
   "version": "3.6.3"
  }
 },
 "nbformat": 4,
 "nbformat_minor": 2
}

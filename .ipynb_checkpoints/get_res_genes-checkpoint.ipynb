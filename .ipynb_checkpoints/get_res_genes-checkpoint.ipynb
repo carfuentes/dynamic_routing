{
 "cells": [
  {
   "cell_type": "code",
   "execution_count": 1,
   "metadata": {
    "collapsed": true
   },
   "outputs": [],
   "source": [
    "import networkx as nx\n",
    "import numpy as np\n",
    "import os\n",
    "import random as rand\n",
    "from collections import defaultdict"
   ]
  },
  {
   "cell_type": "code",
   "execution_count": 2,
   "metadata": {
    "collapsed": true
   },
   "outputs": [],
   "source": [
    "def get_r_dictionaries(file,mapping=True):\n",
    "    with open(file, \"r\") as in_file:\n",
    "        dict_map={}\n",
    "        for line in in_file:\n",
    "            line.strip()\n",
    "            if mapping:\n",
    "                dict_map[line.split()[1]]=line.split()[0]\n",
    "            else:\n",
    "                dict_map[line.split()[0]]=set(line.split()[1:])\n",
    "    return dict_map"
   ]
  },
  {
   "cell_type": "code",
   "execution_count": 3,
   "metadata": {
    "collapsed": true
   },
   "outputs": [],
   "source": [
    "def get_cyclic_net(filename):\n",
    "    G=nx.read_edgelist(filename, comments='#', delimiter=\"\\t\", nodetype =str,  data=(('mode',str),), create_using=nx.DiGraph())\n",
    "    G.remove_nodes_from([\"Source\", \"Target\"])\n",
    "    selfloops=G.selfloop_edges()\n",
    "    G.remove_edges_from(G.selfloop_edges())\n",
    "\n",
    "    while 0 in [d[1] for d in G.in_degree()] or 0 in [d[1] for d in G.out_degree()]:\n",
    "        nodes_to_remove=[node for node in G if G.in_degree(node) == 0 or G.out_degree(node) == 0]\n",
    "        G.remove_nodes_from(nodes_to_remove)\n",
    "        \n",
    "        \n",
    "    selfloops_in_reservoir=[edge for edge in selfloops if edge[0] in G.nodes()]\n",
    "    G.add_edges_from(selfloops_in_reservoir)\n",
    "\n",
    "    return G"
   ]
  },
  {
   "cell_type": "code",
   "execution_count": 4,
   "metadata": {
    "collapsed": true
   },
   "outputs": [],
   "source": [
    "def build_adj_weighted_matrix(filename,mapping):\n",
    "        #NETWORK v2.0\n",
    "    net=get_cyclic_net(filename)\n",
    "    nx.relabel_nodes(net,mapping,copy=False)\n",
    "    dict_pos=dict((node,pos) for (pos,node) in enumerate(net.nodes()))\n",
    "    for edge in net.edges(data=\"mode\", default=0):\n",
    "        source,target,mode=edge\n",
    "        if mode== \"+\":\n",
    "            net[source][target][\"weight\"]= abs(rand.gauss(0,1))\n",
    "        elif mode== \"-\":\n",
    "            net[source][target][\"weight\"]= rand.gauss(0,1)*-1\n",
    "        elif mode== 0:\n",
    "            net[source][target][\"weight\"]= rand.gauss(0,1)\n",
    "        \n",
    "    return nx.to_numpy_matrix(net),dict_pos"
   ]
  },
  {
   "cell_type": "code",
   "execution_count": 4,
   "metadata": {
    "collapsed": true
   },
   "outputs": [],
   "source": [
    "def write_nodes_file(out_file,filename,net):\n",
    "    with open(\"%s_%s\"%(out_file,filename),\"w\") as out:\n",
    "        for gene in net.nodes():\n",
    "            if \"hsa\" in gene:\n",
    "                gene=gene[4:].lower()\n",
    "            out.write(gene +\"\\n\")"
   ]
  },
  {
   "cell_type": "code",
   "execution_count": 5,
   "metadata": {
    "collapsed": true
   },
   "outputs": [],
   "source": [
    "file=\"Dataset1/network_edge_list_ENCODE.csv\"\n",
    "net=get_cyclic_net(\"Dataset1/network_edge_list_ENCODE.csv\")\n",
    "G=nx.read_edgelist(file, comments='#', delimiter=\"\\t\", nodetype =str,  data=(('mode',str),), create_using=nx.DiGraph())"
   ]
  },
  {
   "cell_type": "code",
   "execution_count": 14,
   "metadata": {},
   "outputs": [
    {
     "name": "stdout",
     "output_type": "stream",
     "text": [
      "SP1\n",
      "SP2\n",
      "GATA1\n",
      "BRCA1\n",
      "HNF4A\n",
      "E2F6\n",
      "hsa-miR-130b\n",
      "MEF2C\n",
      "hsa-miR-19a\n",
      "CTCFL\n",
      "POU2F2\n",
      "hsa-miR-595\n",
      "hsa-miR-20a\n",
      "hsa-miR-18a\n",
      "hsa-miR-638\n",
      "hsa-miR-17\n",
      "ZNF143\n",
      "hsa-miR-92a\n",
      "HEY1\n",
      "SREBF2\n",
      "hsa-miR-663\n",
      "SIN3A\n",
      "FOSL2\n",
      "BCL11A\n",
      "NR2C2\n",
      "SIX5\n",
      "MAX\n",
      "MXI1\n",
      "PPARGC1A\n",
      "NFYB\n",
      "EGR1\n",
      "CEBPB\n",
      "RFX5\n",
      "SPI1\n",
      "BCLAF1\n",
      "TCF12\n",
      "PRDM1\n",
      "HDAC2\n",
      "hsa-miR-194\n",
      "RXRA\n",
      "NRF1\n",
      "TAL1\n",
      "TCF4\n",
      "hsa-miR-191\n",
      "ESR1\n",
      "hsa-miR-192\n",
      "CCNT2\n",
      "CTCF\n",
      "PBX3\n",
      "hsa-miR-142-3p\n",
      "POLR3A\n",
      "hsa-miR-142-5p\n",
      "ZBTB33\n",
      "IRF1\n",
      "EP300\n",
      "ETS1\n",
      "NR3C1\n",
      "ZBTB7A\n",
      "hsa-miR-330-3p\n",
      "E2F1\n",
      "SRF\n",
      "IRF3\n",
      "FOS\n",
      "FOSL1\n",
      "JUNB\n",
      "SMARCC1\n",
      "EBF1\n",
      "NFYA\n",
      "CHD2\n",
      "TBP\n",
      "GABPA\n",
      "hsa-miR-1260\n",
      "hsa-miR-1\n",
      "CTBP2\n",
      "JUND\n",
      "SMARCA4\n",
      "IRF4\n",
      "HNF4G\n",
      "FOXA1\n",
      "NFE2\n",
      "RDBP\n",
      "STAT2\n",
      "ELK4\n",
      "hsa-miR-10b\n",
      "BDP1\n",
      "USF2\n",
      "SUZ12\n",
      "BRF2\n",
      "hsa-miR-650\n",
      "hsa-miR-24\n",
      "hsa-miR-25\n",
      "hsa-miR-22\n",
      "hsa-miR-199b-5p\n",
      "USF1\n",
      "E2F4\n",
      "ZEB1\n",
      "MEF2A\n",
      "BCL3\n",
      "hsa-miR-339-5p\n",
      "hsa-miR-365\n",
      "hsa-miR-193b\n",
      "hsa-miR-567\n",
      "BHLHE40\n",
      "TFAP2C\n",
      "BATF\n",
      "hsa-miR-564\n",
      "GATA2\n",
      "TRIM28\n",
      "NFKB1\n",
      "hsa-miR-335\n",
      "POU5F1\n",
      "SIRT6\n",
      "hsa-miR-1226\n",
      "hsa-miR-1228\n",
      "TFAP2A\n",
      "hsa-miR-661\n",
      "GTF2B\n",
      "MYC\n",
      "hsa-miR-615-5p\n",
      "PAX5\n",
      "JUN\n",
      "FOXA2\n",
      "MAFK\n",
      "hsa-miR-367\n",
      "hsa-miR-1208\n",
      "YY1\n",
      "ATF3\n",
      "hsa-miR-1207-3p\n",
      "hsa-miR-1205\n",
      "hsa-miR-548c-3p\n",
      "hsa-let-7a\n",
      "hsa-miR-216a\n",
      "hsa-miR-216b\n",
      "hsa-miR-1207-5p\n",
      "hsa-miR-30a\n",
      "hsa-miR-29b\n",
      "hsa-miR-185\n",
      "hsa-miR-144\n",
      "hsa-miR-217\n",
      "hsa-miR-145\n",
      "hsa-miR-101\n",
      "hsa-miR-129-5p\n",
      "SMARCC2\n",
      "hsa-miR-760\n",
      "STAT1\n",
      "hsa-miR-150\n",
      "hsa-miR-326\n",
      "hsa-let-7b\n",
      "hsa-miR-636\n",
      "hsa-miR-632\n",
      "hsa-miR-375\n",
      "hsa-miR-130a\n",
      "hsa-miR-302c\n",
      "hsa-miR-302a\n",
      "hsa-miR-1248\n",
      "hsa-miR-7\n",
      "hsa-miR-1279\n",
      "hsa-miR-645\n",
      "hsa-miR-573\n",
      "hsa-miR-93\n",
      "hsa-miR-155\n",
      "hsa-miR-132\n",
      "hsa-miR-589\n",
      "hsa-miR-657\n",
      "RAD21\n",
      "MAFF\n",
      "SREBF1\n",
      "HSF1\n",
      "hsa-miR-483-3p\n",
      "STAT3\n",
      "TAF7\n",
      "hsa-miR-1245\n",
      "hsa-miR-196a\n",
      "hsa-miR-125a-3p\n",
      "hsa-miR-612\n",
      "ZNF263\n",
      "WRNIP1\n",
      "hsa-miR-9\n",
      "hsa-miR-648\n",
      "hsa-miR-200c\n",
      "hsa-miR-23b\n",
      "hsa-miR-338-5p\n",
      "hsa-miR-338-3p\n",
      "hsa-miR-135a\n",
      "hsa-miR-27b\n",
      "hsa-miR-212\n",
      "hsa-miR-153\n",
      "hsa-miR-626\n",
      "ELF1\n",
      "hsa-miR-133a\n",
      "SMC3\n",
      "hsa-miR-549\n",
      "hsa-miR-766\n",
      "hsa-miR-497\n",
      "hsa-miR-128\n",
      "hsa-miR-135b\n",
      "hsa-miR-124\n",
      "hsa-miR-484\n",
      "hsa-miR-300\n",
      "SMARCB1\n",
      "hsa-miR-125a-5p\n",
      "hsa-miR-129-3p\n",
      "hsa-miR-10a\n",
      "hsa-miR-219-5p\n",
      "hsa-miR-376a\n",
      "hsa-miR-193a-3p\n",
      "hsa-miR-944\n"
     ]
    }
   ],
   "source": [
    "readout_direct_targets=defaultdict(set)\n",
    "\n",
    "for source, target in G.edges():\n",
    "    if source in net.nodes() and target not in net.nodes():\n",
    "        readout_direct_targets[source].add(target)\n",
    "\n",
    "for key,target in readout_direct_targets.items():\n",
    "    print(key)\n",
    "    #print(target)"
   ]
  },
  {
   "cell_type": "code",
   "execution_count": 15,
   "metadata": {},
   "outputs": [
    {
     "data": {
      "text/plain": [
       "AtlasView({'IRF3': {}, 'hsa-miR-142-5p': {}, 'hsa-miR-130b': {}, 'BRCA1': {}, 'EGR1': {}, 'FOS': {}, 'FOSL1': {}, 'FOSL2': {}, 'JUNB': {}, 'hsa-miR-142-3p': {}, 'HEY1': {}, 'hsa-miR-663': {}})"
      ]
     },
     "execution_count": 15,
     "metadata": {},
     "output_type": "execute_result"
    }
   ],
   "source": []
  },
  {
   "cell_type": "code",
   "execution_count": 10,
   "metadata": {},
   "outputs": [
    {
     "data": {
      "text/plain": [
       "13397"
      ]
     },
     "execution_count": 10,
     "metadata": {},
     "output_type": "execute_result"
    }
   ],
   "source": [
    "len(set.union(*readout_direct_targets.values()))"
   ]
  },
  {
   "cell_type": "code",
   "execution_count": null,
   "metadata": {
    "collapsed": true
   },
   "outputs": [],
   "source": [
    "filename=file[file.index(\"list\")+5:file.index(\".csv\")]"
   ]
  },
  {
   "cell_type": "code",
   "execution_count": null,
   "metadata": {
    "collapsed": true
   },
   "outputs": [],
   "source": [
    "write_nodes_file(\"all_gene\",filename,G)"
   ]
  },
  {
   "cell_type": "code",
   "execution_count": null,
   "metadata": {
    "collapsed": true
   },
   "outputs": [],
   "source": [
    "len(net.nodes())"
   ]
  },
  {
   "cell_type": "code",
   "execution_count": null,
   "metadata": {
    "collapsed": true,
    "scrolled": true
   },
   "outputs": [],
   "source": [
    "## Get R dictionaries\n",
    "## GO term -> set ids\n",
    "GO_id_map=get_r_dictionaries(\"test.txt\",mapping=False)\n",
    "#print(GO_id_map)\n",
    "\n",
    "## id to ENTREZ id\n",
    "edgeid_ezid_map=get_r_dictionaries(\"mapping_id_to_entrez.txt\")\n",
    "print(edgeid_ezid_map)"
   ]
  },
  {
   "cell_type": "code",
   "execution_count": null,
   "metadata": {
    "collapsed": true
   },
   "outputs": [],
   "source": [
    "for key,values in GO_id_map.items():\n",
    "    GO_id_map[key]=set([mapping_relabel[value] for value in values])\n",
    "GO_id_map"
   ]
  },
  {
   "cell_type": "code",
   "execution_count": null,
   "metadata": {
    "collapsed": true
   },
   "outputs": [],
   "source": [
    "## Primero: Hay que cambiarle el id del res al id de ENTREZ\n",
    "## hay que hacer un mapping dictionary con la info que tenemos de los nodos de GO.term\n",
    "##Como no todos están anotados es mejor crear un diccionario \n",
    "mapping_relabel = edgeid_ezid_map\n",
    "for node in net.nodes():\n",
    "    if node not in edgeid_ezid_map.values():\n",
    "        mapping_relabel[node]=node\n",
    "mapping_relabel"
   ]
  },
  {
   "cell_type": "code",
   "execution_count": null,
   "metadata": {
    "collapsed": true
   },
   "outputs": [],
   "source": [
    "## Win test\n",
    "res_size=207\n",
    "in_size=1\n",
    "i_scaling=1"
   ]
  },
  {
   "cell_type": "code",
   "execution_count": null,
   "metadata": {
    "collapsed": true
   },
   "outputs": [],
   "source": [
    "matrix,dict_pos=build_adj_weighted_matrix(file,mapping_relabel)"
   ]
  },
  {
   "cell_type": "code",
   "execution_count": null,
   "metadata": {
    "collapsed": true
   },
   "outputs": [],
   "source": [
    "Win=np.zeros((res_size,1+in_size))*i_scaling\n",
    "Win[1,]"
   ]
  },
  {
   "cell_type": "code",
   "execution_count": null,
   "metadata": {
    "collapsed": true
   },
   "outputs": [],
   "source": [
    "#print(GO_id_map[\"GO:0030220\"])\n",
    "for gene in GO_id_map[\"GO:0030220\"]:\n",
    "    print(dict_pos[gene])\n",
    "    Win[dict_pos[gene],]=2\n",
    "print(np.where(Win==2))"
   ]
  },
  {
   "cell_type": "code",
   "execution_count": null,
   "metadata": {
    "collapsed": true
   },
   "outputs": [],
   "source": [
    "def input_matrix_just_genes_GOterm(Win,GOterm,GO_id_map):\n",
    "    for gene in GO_id_map[GOterm]:\n",
    "        Win[dict_pos[gene],]=np.random.uniform(0,1)\n",
    "    return Win"
   ]
  },
  {
   "cell_type": "code",
   "execution_count": null,
   "metadata": {
    "collapsed": true
   },
   "outputs": [],
   "source": [
    "Win=np.zeros((res_size,1+in_size))*i_scaling\n",
    "input_matrix_just_genes_GOterm(Win,\"GO:0030220\",GO_id_map)"
   ]
  }
 ],
 "metadata": {
  "kernelspec": {
   "display_name": "Python 3",
   "language": "python",
   "name": "python3"
  },
  "language_info": {
   "codemirror_mode": {
    "name": "ipython",
    "version": 3
   },
   "file_extension": ".py",
   "mimetype": "text/x-python",
   "name": "python",
   "nbconvert_exporter": "python",
   "pygments_lexer": "ipython3",
   "version": "3.6.3"
  }
 },
 "nbformat": 4,
 "nbformat_minor": 2
}
